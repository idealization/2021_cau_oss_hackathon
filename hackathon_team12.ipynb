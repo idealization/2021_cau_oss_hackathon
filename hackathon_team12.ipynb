{
  "nbformat": 4,
  "nbformat_minor": 0,
  "metadata": {
    "accelerator": "GPU",
    "colab": {
      "name": "hackathon_team12",
      "provenance": [],
      "collapsed_sections": [
        "1AosAX9DXOlc"
      ]
    },
    "kernelspec": {
      "display_name": "Python 3",
      "language": "python",
      "name": "python3"
    },
    "language_info": {
      "codemirror_mode": {
        "name": "ipython",
        "version": 3
      },
      "file_extension": ".py",
      "mimetype": "text/x-python",
      "name": "python",
      "nbconvert_exporter": "python",
      "pygments_lexer": "ipython3",
      "version": "3.7.4"
    }
  },
  "cells": [
    {
      "cell_type": "markdown",
      "metadata": {
        "id": "1AosAX9DXOlc"
      },
      "source": [
        "# **0. 해커톤 진행 주의사항**\n",
        "\n",
        "**1)  개발 관련 주의사항**\n",
        "*   [1. 초기 환경 설정]은 절대 수정하지 말 것\n",
        "*   모든 구현은 [2. 데이터 전처리] 및 [3.모델 생성]에서만 진행\n",
        "*   [4. 모델 저장]에서 team_name 변수 변경 (예.`team_name = 'team01'`)\n",
        " *    트레이닝 중간에 checkpoint를 활용하여 모델을 저장한 경우에도 파일 이름 양식 통일 필수\n",
        "*   Colab 사용중 실수로 데이터 손실이 발생할 수도 있으니 중간 결과값을 github에 업로드 \n",
        " *    \"런타임->모든 런타임 재설정\"은 절대 누르지 말 것 (저장한 모델 데이터가 모두 삭제됨)\n",
        "*   효율적인 구현 및 테스팅을 위해 GPU 가속 기능 활성화\n",
        " *    \"런타임 -> 런타임 유형변경 -> 하드웨어 가속기 -> GPU 설정\"\n",
        "*   주석을 최대한 자세히 작성\n",
        "*   Keras API 관련하여 [Keras Documentation](https://keras.io/) 참조\n",
        "\n",
        "**2) 제출 관련 주의사항**\n",
        "*  제출물\n",
        " *  소스코드 (hackathon_teamXX.ipynb)\n",
        " *  컴파일된 모델 파일 (model_entire_teamXX.h5)\n",
        " *  모델 발표 자료 \n",
        "* 제출 기한: **오후 6시 (단, 발표자료는 12시)**\n",
        "* 제출 방법: [GitHub README](https://github.com/cauosshackathonta/2021_cau_oss_hackathon/) 참조\n",
        "\n",
        " \n",
        "**3) 평가 관련 주의사항**\n",
        "*  모델 성능 = 두개의 테스트 데이터 셋 분류 정확도에 대한 weighted sum\n",
        " *  model.evaluate(x_test1, y_test1) + model.evaluate(x_test2, y_test2) * 2\n",
        "*  제출된 모델들의 테스트 데이터 셋 분류 정확도를 기준으로 수상작 결정\n",
        "*  수상 후보들에 대해서는 소스코드를 기반으로 모델 재검증 \n",
        " \n",
        "**4) 수상 실격 사유**\n",
        "*  유사한 소스코드 or 알고리즘이 적발될 경우\n",
        "*  소스코드와 제출된 모델이 상이한 경우\n",
        "*  개발 관련 주의사항을 지키지 않은 경우\n",
        " *  예: [초기 환경 설정]을 수정한 경우\n",
        "*  데이터 셋을 변조한 경우\n",
        " *  예: 테스트 데이터 셋을 트레이닝 데이터 셋에 포함하여 모델 생성\n",
        " *  단, tensorflow.data 및 dataset API를 사용하기 위해 변경하는 것은 허용. 이 경우, model evaluation 파트도 해당 API를 쓰도록 변경  \n",
        "*  주석이 소스코드와 맞지 않거나 미비할 경우\n",
        "\n",
        "\n",
        "\n",
        "\n"
      ]
    },
    {
      "cell_type": "markdown",
      "metadata": {
        "id": "67lwEXhUqys1"
      },
      "source": [
        "# **1. 초기 환경 설정**\n",
        "\n"
      ]
    },
    {
      "cell_type": "code",
      "metadata": {
        "id": "Ms5PBBJ1qSC6",
        "colab": {
          "base_uri": "https://localhost:8080/"
        },
        "outputId": "df9b5803-c6c4-4e3c-bf00-6b0dc6bcd25d"
      },
      "source": [
        "# tensorflow와 tf.keras 및 관련 라이브러리 임포트\n",
        "import tensorflow as tf\n",
        "import tensorflow_datasets as tfds\n",
        "from tensorflow import keras\n",
        "from keras.utils import np_utils\n",
        "\n",
        "# 데이터셋 로드 (Training dataset: CIFAR10, test dataset: CIFAR10 & CIFAR10의 변형)\n",
        "(x_train, y_train), (x_test1, y_test1) = keras.datasets.cifar10.load_data()\n",
        "\n",
        "test_ds2 = tfds.load('cifar10_1/v6', split='test', shuffle_files=False, batch_size=-1)\n",
        "test_ds2 = tfds.as_numpy(test_ds2)\n",
        "x_test2, y_test2 = test_ds2['image'], test_ds2['label']\n",
        "\n",
        "#분류를 위해 클래스 벡터를 바이너리 매트릭스로 변환\n",
        "y_train = np_utils.to_categorical(y_train)\n",
        "y_test1 = np_utils.to_categorical(y_test1)\n",
        "y_test2 = np_utils.to_categorical(y_test2)\n",
        "\n",
        "# 총 클래스 개수\n",
        "num_classes = y_train.shape[1]\n",
        "input_shape = x_train.shape[1:]"
      ],
      "execution_count": 1,
      "outputs": [
        {
          "output_type": "stream",
          "text": [
            "WARNING:tensorflow:From /usr/local/lib/python3.7/dist-packages/tensorflow_datasets/core/dataset_builder.py:598: get_single_element (from tensorflow.python.data.experimental.ops.get_single_element) is deprecated and will be removed in a future version.\n",
            "Instructions for updating:\n",
            "Use `tf.data.Dataset.get_single_element()`.\n"
          ],
          "name": "stdout"
        },
        {
          "output_type": "stream",
          "text": [
            "WARNING:tensorflow:From /usr/local/lib/python3.7/dist-packages/tensorflow_datasets/core/dataset_builder.py:598: get_single_element (from tensorflow.python.data.experimental.ops.get_single_element) is deprecated and will be removed in a future version.\n",
            "Instructions for updating:\n",
            "Use `tf.data.Dataset.get_single_element()`.\n"
          ],
          "name": "stderr"
        }
      ]
    },
    {
      "cell_type": "markdown",
      "metadata": {
        "id": "E8Cpal60KfDS"
      },
      "source": [
        "# **2. 데이터 전처리**\n",
        "\n"
      ]
    },
    {
      "cell_type": "code",
      "metadata": {
        "colab": {
          "base_uri": "https://localhost:8080/"
        },
        "id": "pi-il42OKfDv",
        "outputId": "bca950f8-06e6-45ca-d4d1-6c05d4424195"
      },
      "source": [
        "import numpy as np\n",
        "from tensorflow.keras.layers.experimental import preprocessing\n",
        "from tensorflow.keras import layers\n",
        "\n",
        "# 데이터 전처리 (예: normalization)\n",
        "# 원본 데이터와 전처리 후 데이터를 구분하기 위해, 변수명 x_train_after, x_test1_after, x_test2_after를 변경하지 말 것\n",
        "#x_train_after = x_train / 255.0\n",
        "#x_test1_after = x_test1 / 255.0\n",
        "#x_test2_after = x_test2 / 255.0\n",
        "\n",
        "x_train_after = x_train\n",
        "x_test1_after = x_test1\n",
        "x_test2_after = x_test2\n",
        "\n",
        "layer = preprocessing.Normalization()\n",
        "layer.adapt(x_train_after)\n",
        "layer.adapt(x_test1_after)\n",
        "layer.adapt(x_test2_after)\n",
        "\n",
        "print('x_train shape:', x_train_after.shape)\n",
        "print('train samples', x_train_after.shape[0])\n",
        "print('test1 samples', x_test1_after.shape[0])\n",
        "print('test2 samples', x_test2_after.shape[0])\n",
        "print('y_train shape:', y_train.shape)\n",
        "\n",
        "print(type(x_train_after), type(x_test1_after), type(x_test2_after))"
      ],
      "execution_count": 2,
      "outputs": [
        {
          "output_type": "stream",
          "text": [
            "x_train shape: (50000, 32, 32, 3)\n",
            "train samples 50000\n",
            "test1 samples 10000\n",
            "test2 samples 2000\n",
            "y_train shape: (50000, 10)\n",
            "<class 'numpy.ndarray'> <class 'numpy.ndarray'> <class 'numpy.ndarray'>\n"
          ],
          "name": "stdout"
        }
      ]
    },
    {
      "cell_type": "markdown",
      "metadata": {
        "id": "tQ-u8TP8KfDz"
      },
      "source": [
        "# **3. 모델 생성**"
      ]
    },
    {
      "cell_type": "code",
      "metadata": {
        "colab": {
          "base_uri": "https://localhost:8080/"
        },
        "id": "TdUPX3W3EK-I",
        "outputId": "c00f7219-5cc0-4ec6-b6a6-edf32cf8ddf4"
      },
      "source": [
        "from sklearn.model_selection import StratifiedShuffleSplit\n",
        "\n",
        "sss = StratifiedShuffleSplit(n_splits=1, test_size=0.1, random_state=111)\n",
        "indices = list(range(len(x_test1_after)))\n",
        "for test_index, val_index in sss.split(indices, y_test1):\n",
        "  x_test1_1000, y_test1_1000 = x_test1_after[val_index], y_test1[val_index]\n",
        "x_test1_1000.shape"
      ],
      "execution_count": 3,
      "outputs": [
        {
          "output_type": "execute_result",
          "data": {
            "text/plain": [
              "(1000, 32, 32, 3)"
            ]
          },
          "metadata": {},
          "execution_count": 3
        }
      ]
    },
    {
      "cell_type": "code",
      "metadata": {
        "id": "Y9iPYY67EK7k"
      },
      "source": [
        "x_test_after = np.vstack([x_test2_after, x_test1_1000])\n",
        "y_test= np.vstack([y_test2, y_test1_1000])\n",
        "idx = range(len(y_test))\n",
        "idx = np.random.permutation(idx)\n"
      ],
      "execution_count": 4,
      "outputs": []
    },
    {
      "cell_type": "code",
      "metadata": {
        "id": "OfS6zalzSC26"
      },
      "source": [
        "data_augmentation = keras.Sequential(\n",
        "    [\n",
        "        preprocessing.RandomFlip(\"horizontal\"),\n",
        "        preprocessing.RandomRotation(0.2),\n",
        "        preprocessing.RandomCrop(32, 32),\n",
        "        preprocessing.RandomZoom(0.2, fill_mode='nearest'),\n",
        "    ]\n",
        ")\n",
        "\n",
        "inputs = keras.Input(shape=input_shape)\n",
        "x = data_augmentation(inputs)\n",
        "#x = preprocessing.Rescaling(1.0 / 255)(x)\n",
        "outputs = keras.applications.DenseNet169(\n",
        "    weights=None, input_shape=input_shape, classes=num_classes\n",
        ")(x)\n",
        "model = keras.Model(inputs, outputs)"
      ],
      "execution_count": 19,
      "outputs": []
    },
    {
      "cell_type": "code",
      "metadata": {
        "id": "4Ba6uqxZ91YC"
      },
      "source": [
        "es = tf.keras.callbacks.EarlyStopping(monitor='val_loss', mode='min', verbose=1, patience=10)\n",
        "cp_callback = tf.keras.callbacks.ModelCheckpoint(filepath='/content/checkpoint_entire_best.h5', monitor='val_accuracy', verbose=1, save_weight_only=False, save_best_only=True, mode='auto')\n",
        "callback = [es, cp_callback]\n",
        "\n",
        "lr_schedule = keras.optimizers.schedules.ExponentialDecay(\n",
        "    initial_learning_rate=0.05,\n",
        "    decay_steps=10000,\n",
        "    decay_rate=0.9)\n",
        "optimizer = keras.optimizers.SGD(learning_rate=lr_schedule)"
      ],
      "execution_count": 20,
      "outputs": []
    },
    {
      "cell_type": "code",
      "metadata": {
        "colab": {
          "base_uri": "https://localhost:8080/"
        },
        "id": "l8yQrpxY8w03",
        "outputId": "1d3dc131-860a-4501-b31f-25ebe676f538"
      },
      "source": [
        "model.compile(loss='categorical_crossentropy', metrics=['accuracy'], optimizer=optimizer)\n",
        "model.fit(x_train_after, y_train, batch_size=128, epochs=30, validation_data=(x_test_after[idx], y_test[idx]),callbacks=callback)"
      ],
      "execution_count": null,
      "outputs": [
        {
          "output_type": "stream",
          "text": [
            "Epoch 1/30\n",
            "391/391 [==============================] - 90s 191ms/step - loss: 2.0319 - accuracy: 0.3169 - val_loss: 2.0968 - val_accuracy: 0.2600\n",
            "\n",
            "Epoch 00001: val_accuracy improved from -inf to 0.26000, saving model to /content/checkpoint_entire_best.h5\n",
            "Epoch 2/30\n",
            "391/391 [==============================] - 72s 183ms/step - loss: 1.6922 - accuracy: 0.4073 - val_loss: 1.8205 - val_accuracy: 0.3517\n",
            "\n",
            "Epoch 00002: val_accuracy improved from 0.26000 to 0.35167, saving model to /content/checkpoint_entire_best.h5\n",
            "Epoch 3/30\n",
            "391/391 [==============================] - 72s 184ms/step - loss: 1.5517 - accuracy: 0.4526 - val_loss: 1.8129 - val_accuracy: 0.3717\n",
            "\n",
            "Epoch 00003: val_accuracy improved from 0.35167 to 0.37167, saving model to /content/checkpoint_entire_best.h5\n",
            "Epoch 4/30\n",
            "391/391 [==============================] - 72s 183ms/step - loss: 1.4543 - accuracy: 0.4835 - val_loss: 1.7697 - val_accuracy: 0.3967\n",
            "\n",
            "Epoch 00004: val_accuracy improved from 0.37167 to 0.39667, saving model to /content/checkpoint_entire_best.h5\n",
            "Epoch 5/30\n",
            "391/391 [==============================] - 73s 187ms/step - loss: 1.3693 - accuracy: 0.5134 - val_loss: 2.3389 - val_accuracy: 0.2803\n",
            "\n",
            "Epoch 00005: val_accuracy did not improve from 0.39667\n",
            "Epoch 6/30\n",
            "391/391 [==============================] - 72s 184ms/step - loss: 1.3203 - accuracy: 0.5305 - val_loss: 1.7968 - val_accuracy: 0.4007\n",
            "\n",
            "Epoch 00006: val_accuracy improved from 0.39667 to 0.40067, saving model to /content/checkpoint_entire_best.h5\n",
            "Epoch 7/30\n",
            "391/391 [==============================] - 72s 184ms/step - loss: 1.2586 - accuracy: 0.5536 - val_loss: 2.3372 - val_accuracy: 0.2920\n",
            "\n",
            "Epoch 00007: val_accuracy did not improve from 0.40067\n",
            "Epoch 8/30\n",
            "391/391 [==============================] - 73s 188ms/step - loss: 1.2200 - accuracy: 0.5654 - val_loss: 1.7365 - val_accuracy: 0.4267\n",
            "\n",
            "Epoch 00008: val_accuracy improved from 0.40067 to 0.42667, saving model to /content/checkpoint_entire_best.h5\n",
            "Epoch 9/30\n",
            "391/391 [==============================] - 72s 185ms/step - loss: 1.1792 - accuracy: 0.5813 - val_loss: 2.4316 - val_accuracy: 0.3497\n",
            "\n",
            "Epoch 00009: val_accuracy did not improve from 0.42667\n",
            "Epoch 10/30\n",
            "391/391 [==============================] - 73s 188ms/step - loss: 1.1412 - accuracy: 0.5945 - val_loss: 1.6463 - val_accuracy: 0.4490\n",
            "\n",
            "Epoch 00010: val_accuracy improved from 0.42667 to 0.44900, saving model to /content/checkpoint_entire_best.h5\n",
            "Epoch 11/30\n",
            "391/391 [==============================] - 72s 184ms/step - loss: 1.1119 - accuracy: 0.6059 - val_loss: 1.5576 - val_accuracy: 0.4803\n",
            "\n",
            "Epoch 00011: val_accuracy improved from 0.44900 to 0.48033, saving model to /content/checkpoint_entire_best.h5\n",
            "Epoch 12/30\n",
            "379/391 [============================>.] - ETA: 2s - loss: 1.0754 - accuracy: 0.6181"
          ],
          "name": "stdout"
        }
      ]
    },
    {
      "cell_type": "markdown",
      "metadata": {
        "id": "F5EE4wO8KfD2"
      },
      "source": [
        "# **4. 모델 저장**"
      ]
    },
    {
      "cell_type": "code",
      "metadata": {
        "id": "e62V3-DsKfD3"
      },
      "source": [
        "save_path = '/content/'\n",
        "team_name = 'team12'\n",
        "\n",
        "# 트레이닝된 전체 모델을 저장합니다.\n",
        "model.save(save_path +  'model_entire_'+ team_name + '.h5')"
      ],
      "execution_count": 17,
      "outputs": []
    },
    {
      "cell_type": "markdown",
      "metadata": {
        "id": "s6r0fM2bKfD3"
      },
      "source": [
        "# **5. 모델 로드 및 평가**"
      ]
    },
    {
      "cell_type": "code",
      "metadata": {
        "colab": {
          "base_uri": "https://localhost:8080/"
        },
        "id": "aI4OPYgzKfD3",
        "outputId": "ab2e36bd-2b0d-49db-bc09-a0bbfd177049"
      },
      "source": [
        "save_path = '/content/'\n",
        "team_name = 'team12'\n",
        "\n",
        "model = keras.models.load_model(save_path + 'model_entire_' + team_name + '.h5')\n",
        "\n",
        "model.evaluate(x_test1_after, y_test1)\n",
        "model.evaluate(x_test2_after, y_test2)"
      ],
      "execution_count": 18,
      "outputs": [
        {
          "output_type": "stream",
          "text": [
            "313/313 [==============================] - 19s 49ms/step - loss: 1.7227 - accuracy: 0.5216\n",
            "63/63 [==============================] - 3s 47ms/step - loss: 2.7305 - accuracy: 0.4075\n"
          ],
          "name": "stdout"
        },
        {
          "output_type": "execute_result",
          "data": {
            "text/plain": [
              "[2.73046612739563, 0.4074999988079071]"
            ]
          },
          "metadata": {},
          "execution_count": 18
        }
      ]
    },
    {
      "cell_type": "code",
      "metadata": {
        "id": "FC6wsx3tuNuk"
      },
      "source": [
        ""
      ],
      "execution_count": null,
      "outputs": []
    }
  ]
}